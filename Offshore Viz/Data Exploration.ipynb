{
 "cells": [
  {
   "cell_type": "markdown",
   "metadata": {},
   "source": [
    "# Offshore Viz Data Exploration"
   ]
  },
  {
   "cell_type": "markdown",
   "metadata": {},
   "source": [
    "## Import Required Packages"
   ]
  },
  {
   "cell_type": "code",
   "execution_count": 37,
   "metadata": {
    "collapsed": true
   },
   "outputs": [],
   "source": [
    "import pandas as pd\n",
    "import numpy as np\n",
    "import matplotlib.pyplot as plt"
   ]
  },
  {
   "cell_type": "markdown",
   "metadata": {},
   "source": [
    "## Read Data Source"
   ]
  },
  {
   "cell_type": "code",
   "execution_count": 23,
   "metadata": {},
   "outputs": [
    {
     "data": {
      "text/html": [
       "<div>\n",
       "<style>\n",
       "    .dataframe thead tr:only-child th {\n",
       "        text-align: right;\n",
       "    }\n",
       "\n",
       "    .dataframe thead th {\n",
       "        text-align: left;\n",
       "    }\n",
       "\n",
       "    .dataframe tbody tr th {\n",
       "        vertical-align: top;\n",
       "    }\n",
       "</style>\n",
       "<table border=\"1\" class=\"dataframe\">\n",
       "  <thead>\n",
       "    <tr style=\"text-align: right;\">\n",
       "      <th></th>\n",
       "      <th>c_n_sourceID</th>\n",
       "      <th>c_type</th>\n",
       "      <th>c_n_countries_norm</th>\n",
       "      <th>b_n_jurisdiction_description_norm</th>\n",
       "      <th>count</th>\n",
       "    </tr>\n",
       "  </thead>\n",
       "  <tbody>\n",
       "    <tr>\n",
       "      <th>0</th>\n",
       "      <td>Bahamas Leaks</td>\n",
       "      <td>individual</td>\n",
       "      <td>Angola</td>\n",
       "      <td>Bahamas</td>\n",
       "      <td>1</td>\n",
       "    </tr>\n",
       "    <tr>\n",
       "      <th>1</th>\n",
       "      <td>Panama Papers</td>\n",
       "      <td>individual</td>\n",
       "      <td>Lithuania</td>\n",
       "      <td>Seychelles</td>\n",
       "      <td>1</td>\n",
       "    </tr>\n",
       "    <tr>\n",
       "      <th>2</th>\n",
       "      <td>Panama Papers</td>\n",
       "      <td>individual</td>\n",
       "      <td>Lithuania</td>\n",
       "      <td>Samoa</td>\n",
       "      <td>1</td>\n",
       "    </tr>\n",
       "    <tr>\n",
       "      <th>3</th>\n",
       "      <td>Panama Papers</td>\n",
       "      <td>individual</td>\n",
       "      <td>Liechtenstein</td>\n",
       "      <td>British Anguilla</td>\n",
       "      <td>1</td>\n",
       "    </tr>\n",
       "    <tr>\n",
       "      <th>4</th>\n",
       "      <td>Panama Papers</td>\n",
       "      <td>individual</td>\n",
       "      <td>Libya</td>\n",
       "      <td>Panama</td>\n",
       "      <td>1</td>\n",
       "    </tr>\n",
       "  </tbody>\n",
       "</table>\n",
       "</div>"
      ],
      "text/plain": [
       "    c_n_sourceID      c_type c_n_countries_norm  \\\n",
       "0  Bahamas Leaks  individual             Angola   \n",
       "1  Panama Papers  individual          Lithuania   \n",
       "2  Panama Papers  individual          Lithuania   \n",
       "3  Panama Papers  individual      Liechtenstein   \n",
       "4  Panama Papers  individual              Libya   \n",
       "\n",
       "  b_n_jurisdiction_description_norm  count  \n",
       "0                           Bahamas      1  \n",
       "1                        Seychelles      1  \n",
       "2                             Samoa      1  \n",
       "3                  British Anguilla      1  \n",
       "4                            Panama      1  "
      ]
     },
     "execution_count": 23,
     "metadata": {},
     "output_type": "execute_result"
    }
   ],
   "source": [
    "base_file = pd.read_csv('Data/offshore_agg_data_alltime.csv')\n",
    "base_file.head()"
   ]
  },
  {
   "cell_type": "markdown",
   "metadata": {},
   "source": [
    "## Data Preprocessing"
   ]
  },
  {
   "cell_type": "markdown",
   "metadata": {},
   "source": [
    "#### Change Column Names"
   ]
  },
  {
   "cell_type": "code",
   "execution_count": 24,
   "metadata": {},
   "outputs": [],
   "source": [
    "base_file.columns = ['Source','Type','Country','Offshore_Location','Count']"
   ]
  },
  {
   "cell_type": "markdown",
   "metadata": {},
   "source": [
    "#### Aggregate Data"
   ]
  },
  {
   "cell_type": "code",
   "execution_count": 25,
   "metadata": {},
   "outputs": [
    {
     "data": {
      "text/html": [
       "<div>\n",
       "<style>\n",
       "    .dataframe thead tr:only-child th {\n",
       "        text-align: right;\n",
       "    }\n",
       "\n",
       "    .dataframe thead th {\n",
       "        text-align: left;\n",
       "    }\n",
       "\n",
       "    .dataframe tbody tr th {\n",
       "        vertical-align: top;\n",
       "    }\n",
       "</style>\n",
       "<table border=\"1\" class=\"dataframe\">\n",
       "  <thead>\n",
       "    <tr style=\"text-align: right;\">\n",
       "      <th></th>\n",
       "      <th>Country</th>\n",
       "      <th>Offshore_Location</th>\n",
       "      <th>Count</th>\n",
       "    </tr>\n",
       "  </thead>\n",
       "  <tbody>\n",
       "    <tr>\n",
       "      <th>0</th>\n",
       "      <td>Albania</td>\n",
       "      <td>Bahamas</td>\n",
       "      <td>1</td>\n",
       "    </tr>\n",
       "    <tr>\n",
       "      <th>0</th>\n",
       "      <td>Albania</td>\n",
       "      <td>British Anguilla</td>\n",
       "      <td>4</td>\n",
       "    </tr>\n",
       "    <tr>\n",
       "      <th>0</th>\n",
       "      <td>Albania</td>\n",
       "      <td>British Virgin Islands</td>\n",
       "      <td>13</td>\n",
       "    </tr>\n",
       "    <tr>\n",
       "      <th>0</th>\n",
       "      <td>Albania</td>\n",
       "      <td>Cayman Islands</td>\n",
       "      <td>3</td>\n",
       "    </tr>\n",
       "    <tr>\n",
       "      <th>0</th>\n",
       "      <td>Albania</td>\n",
       "      <td>Jersey</td>\n",
       "      <td>1</td>\n",
       "    </tr>\n",
       "  </tbody>\n",
       "</table>\n",
       "</div>"
      ],
      "text/plain": [
       "   Country       Offshore_Location  Count\n",
       "0  Albania                 Bahamas      1\n",
       "0  Albania        British Anguilla      4\n",
       "0  Albania  British Virgin Islands     13\n",
       "0  Albania          Cayman Islands      3\n",
       "0  Albania                  Jersey      1"
      ]
     },
     "execution_count": 25,
     "metadata": {},
     "output_type": "execute_result"
    }
   ],
   "source": [
    "base_file_pro = pd.DataFrame([])\n",
    "for name, group in base_file.groupby(['Country','Offshore_Location']):\n",
    "    base_file_pro = base_file_pro.append([list(name + (group['Count'].sum(),))])\n",
    "base_file_pro.columns=['Country','Offshore_Location','Count']\n",
    "base_file_pro.head()"
   ]
  },
  {
   "cell_type": "markdown",
   "metadata": {},
   "source": [
    "## Data Exploration"
   ]
  },
  {
   "cell_type": "markdown",
   "metadata": {},
   "source": [
    "#### Simple Count"
   ]
  },
  {
   "cell_type": "code",
   "execution_count": 38,
   "metadata": {},
   "outputs": [
    {
     "name": "stdout",
     "output_type": "stream",
     "text": [
      "Countries: 185\n",
      "\n",
      "Offshore_Locations: 38\n",
      "\n",
      "count     1432.000000\n",
      "mean        99.358939\n",
      "std        798.363523\n",
      "min          1.000000\n",
      "25%          2.000000\n",
      "50%          5.000000\n",
      "75%         21.000000\n",
      "max      18349.000000\n",
      "Name: Count, dtype: float64\n"
     ]
    }
   ],
   "source": [
    "print(\"Countries: %d\\n\" %len(base_file_pro.Country.unique()))\n",
    "print(\"Offshore_Locations: %d\\n\" %len(base_file_pro.Offshore_Location.unique()))\n",
    "print(base_file_pro.Count.describe())"
   ]
  },
  {
   "cell_type": "markdown",
   "metadata": {},
   "source": [
    "#### Pivot Table"
   ]
  },
  {
   "cell_type": "code",
   "execution_count": 31,
   "metadata": {},
   "outputs": [
    {
     "data": {
      "text/html": [
       "<div>\n",
       "<style>\n",
       "    .dataframe thead tr:only-child th {\n",
       "        text-align: right;\n",
       "    }\n",
       "\n",
       "    .dataframe thead th {\n",
       "        text-align: left;\n",
       "    }\n",
       "\n",
       "    .dataframe tbody tr th {\n",
       "        vertical-align: top;\n",
       "    }\n",
       "</style>\n",
       "<table border=\"1\" class=\"dataframe\">\n",
       "  <thead>\n",
       "    <tr style=\"text-align: right;\">\n",
       "      <th>Offshore_Location</th>\n",
       "      <th>Bahamas</th>\n",
       "      <th>Belize</th>\n",
       "      <th>Bermuda</th>\n",
       "      <th>British Anguilla</th>\n",
       "      <th>British Virgin Islands</th>\n",
       "      <th>Brunei</th>\n",
       "      <th>Cayman Islands</th>\n",
       "      <th>Cook Islands</th>\n",
       "      <th>Costa Rica</th>\n",
       "      <th>Cyprus</th>\n",
       "      <th>...</th>\n",
       "      <th>Saint Kitts and Nevis</th>\n",
       "      <th>Samoa</th>\n",
       "      <th>Seychelles</th>\n",
       "      <th>Singapore</th>\n",
       "      <th>St. Lucia</th>\n",
       "      <th>State of Delaware</th>\n",
       "      <th>United Kingdom</th>\n",
       "      <th>United States Of America</th>\n",
       "      <th>Vanuatu</th>\n",
       "      <th>Wyoming</th>\n",
       "    </tr>\n",
       "    <tr>\n",
       "      <th>Country</th>\n",
       "      <th></th>\n",
       "      <th></th>\n",
       "      <th></th>\n",
       "      <th></th>\n",
       "      <th></th>\n",
       "      <th></th>\n",
       "      <th></th>\n",
       "      <th></th>\n",
       "      <th></th>\n",
       "      <th></th>\n",
       "      <th></th>\n",
       "      <th></th>\n",
       "      <th></th>\n",
       "      <th></th>\n",
       "      <th></th>\n",
       "      <th></th>\n",
       "      <th></th>\n",
       "      <th></th>\n",
       "      <th></th>\n",
       "      <th></th>\n",
       "      <th></th>\n",
       "    </tr>\n",
       "  </thead>\n",
       "  <tbody>\n",
       "    <tr>\n",
       "      <th>Albania</th>\n",
       "      <td>1.0</td>\n",
       "      <td>0.0</td>\n",
       "      <td>0.0</td>\n",
       "      <td>4.0</td>\n",
       "      <td>13.0</td>\n",
       "      <td>0.0</td>\n",
       "      <td>3.0</td>\n",
       "      <td>0.0</td>\n",
       "      <td>0.0</td>\n",
       "      <td>0.0</td>\n",
       "      <td>...</td>\n",
       "      <td>0.0</td>\n",
       "      <td>0.0</td>\n",
       "      <td>1.0</td>\n",
       "      <td>0.0</td>\n",
       "      <td>0.0</td>\n",
       "      <td>0.0</td>\n",
       "      <td>0.0</td>\n",
       "      <td>0.0</td>\n",
       "      <td>0.0</td>\n",
       "      <td>0.0</td>\n",
       "    </tr>\n",
       "    <tr>\n",
       "      <th>Algeria</th>\n",
       "      <td>1.0</td>\n",
       "      <td>2.0</td>\n",
       "      <td>2.0</td>\n",
       "      <td>1.0</td>\n",
       "      <td>13.0</td>\n",
       "      <td>0.0</td>\n",
       "      <td>0.0</td>\n",
       "      <td>0.0</td>\n",
       "      <td>0.0</td>\n",
       "      <td>0.0</td>\n",
       "      <td>...</td>\n",
       "      <td>0.0</td>\n",
       "      <td>3.0</td>\n",
       "      <td>1.0</td>\n",
       "      <td>0.0</td>\n",
       "      <td>0.0</td>\n",
       "      <td>0.0</td>\n",
       "      <td>0.0</td>\n",
       "      <td>0.0</td>\n",
       "      <td>0.0</td>\n",
       "      <td>0.0</td>\n",
       "    </tr>\n",
       "    <tr>\n",
       "      <th>American Samoa</th>\n",
       "      <td>4.0</td>\n",
       "      <td>0.0</td>\n",
       "      <td>0.0</td>\n",
       "      <td>0.0</td>\n",
       "      <td>8.0</td>\n",
       "      <td>0.0</td>\n",
       "      <td>0.0</td>\n",
       "      <td>0.0</td>\n",
       "      <td>0.0</td>\n",
       "      <td>0.0</td>\n",
       "      <td>...</td>\n",
       "      <td>0.0</td>\n",
       "      <td>0.0</td>\n",
       "      <td>0.0</td>\n",
       "      <td>0.0</td>\n",
       "      <td>0.0</td>\n",
       "      <td>0.0</td>\n",
       "      <td>0.0</td>\n",
       "      <td>0.0</td>\n",
       "      <td>0.0</td>\n",
       "      <td>0.0</td>\n",
       "    </tr>\n",
       "    <tr>\n",
       "      <th>Andorra</th>\n",
       "      <td>3.0</td>\n",
       "      <td>0.0</td>\n",
       "      <td>0.0</td>\n",
       "      <td>0.0</td>\n",
       "      <td>13.0</td>\n",
       "      <td>0.0</td>\n",
       "      <td>2.0</td>\n",
       "      <td>2.0</td>\n",
       "      <td>0.0</td>\n",
       "      <td>0.0</td>\n",
       "      <td>...</td>\n",
       "      <td>0.0</td>\n",
       "      <td>1.0</td>\n",
       "      <td>4.0</td>\n",
       "      <td>0.0</td>\n",
       "      <td>0.0</td>\n",
       "      <td>0.0</td>\n",
       "      <td>0.0</td>\n",
       "      <td>0.0</td>\n",
       "      <td>0.0</td>\n",
       "      <td>0.0</td>\n",
       "    </tr>\n",
       "    <tr>\n",
       "      <th>Angola</th>\n",
       "      <td>1.0</td>\n",
       "      <td>0.0</td>\n",
       "      <td>0.0</td>\n",
       "      <td>3.0</td>\n",
       "      <td>37.0</td>\n",
       "      <td>0.0</td>\n",
       "      <td>0.0</td>\n",
       "      <td>0.0</td>\n",
       "      <td>0.0</td>\n",
       "      <td>0.0</td>\n",
       "      <td>...</td>\n",
       "      <td>0.0</td>\n",
       "      <td>1.0</td>\n",
       "      <td>6.0</td>\n",
       "      <td>0.0</td>\n",
       "      <td>0.0</td>\n",
       "      <td>0.0</td>\n",
       "      <td>0.0</td>\n",
       "      <td>0.0</td>\n",
       "      <td>0.0</td>\n",
       "      <td>0.0</td>\n",
       "    </tr>\n",
       "  </tbody>\n",
       "</table>\n",
       "<p>5 rows × 38 columns</p>\n",
       "</div>"
      ],
      "text/plain": [
       "Offshore_Location  Bahamas  Belize  Bermuda  British Anguilla  \\\n",
       "Country                                                         \n",
       "Albania                1.0     0.0      0.0               4.0   \n",
       "Algeria                1.0     2.0      2.0               1.0   \n",
       "American Samoa         4.0     0.0      0.0               0.0   \n",
       "Andorra                3.0     0.0      0.0               0.0   \n",
       "Angola                 1.0     0.0      0.0               3.0   \n",
       "\n",
       "Offshore_Location  British Virgin Islands  Brunei  Cayman Islands  \\\n",
       "Country                                                             \n",
       "Albania                              13.0     0.0             3.0   \n",
       "Algeria                              13.0     0.0             0.0   \n",
       "American Samoa                        8.0     0.0             0.0   \n",
       "Andorra                              13.0     0.0             2.0   \n",
       "Angola                               37.0     0.0             0.0   \n",
       "\n",
       "Offshore_Location  Cook Islands  Costa Rica  Cyprus   ...     \\\n",
       "Country                                               ...      \n",
       "Albania                     0.0         0.0     0.0   ...      \n",
       "Algeria                     0.0         0.0     0.0   ...      \n",
       "American Samoa              0.0         0.0     0.0   ...      \n",
       "Andorra                     2.0         0.0     0.0   ...      \n",
       "Angola                      0.0         0.0     0.0   ...      \n",
       "\n",
       "Offshore_Location  Saint Kitts and Nevis  Samoa  Seychelles  Singapore  \\\n",
       "Country                                                                  \n",
       "Albania                              0.0    0.0         1.0        0.0   \n",
       "Algeria                              0.0    3.0         1.0        0.0   \n",
       "American Samoa                       0.0    0.0         0.0        0.0   \n",
       "Andorra                              0.0    1.0         4.0        0.0   \n",
       "Angola                               0.0    1.0         6.0        0.0   \n",
       "\n",
       "Offshore_Location  St. Lucia  State of Delaware  United Kingdom  \\\n",
       "Country                                                           \n",
       "Albania                  0.0                0.0             0.0   \n",
       "Algeria                  0.0                0.0             0.0   \n",
       "American Samoa           0.0                0.0             0.0   \n",
       "Andorra                  0.0                0.0             0.0   \n",
       "Angola                   0.0                0.0             0.0   \n",
       "\n",
       "Offshore_Location  United States Of America  Vanuatu  Wyoming  \n",
       "Country                                                        \n",
       "Albania                                 0.0      0.0      0.0  \n",
       "Algeria                                 0.0      0.0      0.0  \n",
       "American Samoa                          0.0      0.0      0.0  \n",
       "Andorra                                 0.0      0.0      0.0  \n",
       "Angola                                  0.0      0.0      0.0  \n",
       "\n",
       "[5 rows x 38 columns]"
      ]
     },
     "execution_count": 31,
     "metadata": {},
     "output_type": "execute_result"
    }
   ],
   "source": [
    "pd.pivot_table(base_file_pro, values='Count', index=['Country'],columns=['Offshore_Location']).fillna(0).head()"
   ]
  },
  {
   "cell_type": "markdown",
   "metadata": {},
   "source": [
    "#### Bar Chart"
   ]
  },
  {
   "cell_type": "code",
   "execution_count": 43,
   "metadata": {},
   "outputs": [
    {
     "data": {
      "image/png": "[encoded data removed]",
      "text/plain": [
       "<matplotlib.figure.Figure at 0x10806668>"
      ]
     },
     "metadata": {},
     "output_type": "display_data"
    }
   ],
   "source": [
    "base_file_pro.plot.kde()\n",
    "plt.show()"
   ]
  }
 ],
 "metadata": {
  "kernelspec": {
   "display_name": "Python 3",
   "language": "python",
   "name": "python3"
  },
  "language_info": {
   "codemirror_mode": {
    "name": "ipython",
    "version": 3
   },
   "file_extension": ".py",
   "mimetype": "text/x-python",
   "name": "python",
   "nbconvert_exporter": "python",
   "pygments_lexer": "ipython3",
   "version": "3.6.3"
  }
 },
 "nbformat": 4,
 "nbformat_minor": 2
}
