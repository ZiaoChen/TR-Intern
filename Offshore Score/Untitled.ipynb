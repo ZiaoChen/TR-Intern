{
 "cells": [
  {
   "cell_type": "code",
   "execution_count": 1,
   "metadata": {},
   "outputs": [],
   "source": [
    "    url = 'https://dds-test.thomsonreuters.com/datafusion/'\n",
    "    user = 'jiaming.zhan@thomsonreuters.com'\n",
    "    pwd = 'datafusion'"
   ]
  },
  {
   "cell_type": "code",
   "execution_count": 7,
   "metadata": {},
   "outputs": [],
   "source": [
    "import requests\n",
    "\n",
    "def search_entity(name, headers):\n",
    "    data = {'searchString': name, 'entityTypeId': [4, 16], 'limit': 1,\n",
    "            'extraFields': '*'}  # 4 is Person, 16 is Organization\n",
    "    r = requests.get(url + 'api/entity/search', headers=headers, json=data, verify=False).json()['entities']\n",
    "    r = [x for x in r if 'sourceID_attr' not in x]\n",
    "    if len(r) > 0:\n",
    "        r1 = r[0]\n",
    "        r1['source_name_norm'] = name\n",
    "        return r1\n",
    "        print r1\n",
    "    else:\n",
    "        return {}\n",
    "\n",
    "def get_token_headers():\n",
    "    headers = {'Content-Type': 'application/json'}\n",
    "    data = {'username': user, 'password': pwd}\n",
    "    r = requests.post(url + 'oauth/token', headers=headers, json=data, verify=False).json()\n",
    "    headers['Accept'] = 'application/json'\n",
    "    headers['Authorization'] = r['token_type'] + ' ' + r['access_token']\n",
    "    return headers\n"
   ]
  },
  {
   "cell_type": "code",
   "execution_count": 4,
   "metadata": {},
   "outputs": [
    {
     "name": "stderr",
     "output_type": "stream",
     "text": [
      "C:\\Users\\uc238618\\AppData\\Local\\Continuum\\anaconda3\\lib\\site-packages\\urllib3\\connectionpool.py:858: InsecureRequestWarning: Unverified HTTPS request is being made. Adding certificate verification is strongly advised. See: https://urllib3.readthedocs.io/en/latest/advanced-usage.html#ssl-warnings\n",
      "  InsecureRequestWarning)\n"
     ]
    }
   ],
   "source": [
    "headers = get_token_headers()"
   ]
  },
  {
   "cell_type": "code",
   "execution_count": 6,
   "metadata": {},
   "outputs": [
    {
     "name": "stderr",
     "output_type": "stream",
     "text": [
      "C:\\Users\\uc238618\\AppData\\Local\\Continuum\\anaconda3\\lib\\site-packages\\urllib3\\connectionpool.py:858: InsecureRequestWarning: Unverified HTTPS request is being made. Adding certificate verification is strongly advised. See: https://urllib3.readthedocs.io/en/latest/advanced-usage.html#ssl-warnings\n",
      "  InsecureRequestWarning)\n"
     ]
    },
    {
     "data": {
      "text/plain": [
       "{u'CommonName_attr': u'Kenwood Appl Singapore Pte Ltd',\n",
       " u'MXID_attr': u'111907977',\n",
       " u'MXID_attr_d': u'1.11907977E8',\n",
       " u'OrganizationProviderTypeCode_attr': u'1',\n",
       " u'OrganizationProviderTypeCode_attr_d': u'1.0',\n",
       " u'concord_record_t': u'http://feed.thomsonreuters.com/1-5036187948|KENWOOD APPL SINGAPORE PTE LTD||||SG||',\n",
       " u'concord_search_t': [u'KENWOOD APPL SINGAPORE PTE,SG',\n",
       "  u'KENWOOD APPL SINGAPORE PTE LTD,SG',\n",
       "  u'KENWOOD APPL SINGAPORE,SG',\n",
       "  u'KENWOOD APPL,SG'],\n",
       " u'contextFields': {},\n",
       " u'equityInstrumentCount_attr': u'0',\n",
       " u'hasLegacyPI_attr': u'22840614',\n",
       " u'hasLegacyPI_attr_d': u'2.2840614E7',\n",
       " u'hasMXID_attr': u'111907977',\n",
       " u'hasMXID_attr_d': u'1.11907977E8',\n",
       " u'hasNDAOrgID_attr': u'111259855',\n",
       " u'hasNDAOrgID_attr_d': u'1.11259855E8',\n",
       " u'hasOfficialNameTransliterated_attr': u'KENWOOD APPL. (SINGAPORE) PTE LTD.',\n",
       " u'hasOfficialName_attr': u'KENWOOD APPL. (SINGAPORE) PTE LTD.',\n",
       " u'hasPermId_attr': u'5036187948',\n",
       " u'hasPermId_attr_d': u'5.036187948E9',\n",
       " u'hasShortName_attr': u'Kenwood Appl',\n",
       " u'hasSubTypeCode_attr': u'UNK',\n",
       " u'headquartersAddress_attr': u'Singapore',\n",
       " u'headquartersCommonAddress_attr': u'Singapore',\n",
       " u'instrumentCount_attr': u'0',\n",
       " u'isDomiciledIn_attr': u'Singapore',\n",
       " u'isManaged_attr': u'false',\n",
       " u'isPublicFlag_attr': u'false',\n",
       " u'isVerified_attr': u'false',\n",
       " u'label': u'Kenwood Appl Singapore Pte Ltd',\n",
       " u'officialLatinName_attr': u'KENWOOD APPL. (SINGAPORE) PTE LTD.',\n",
       " u'officialNameTransliterated_attr': u'KENWOOD APPL. (SINGAPORE) PTE LTD.',\n",
       " u'officialName_attr': u'KENWOOD APPL. (SINGAPORE) PTE LTD.',\n",
       " u'organizationCountryCode_attr': u'100265',\n",
       " u'organizationCountryCode_attr_d': u'100265.0',\n",
       " u'organizationCountry_attr': u'Singapore',\n",
       " u'organizationStatusCode_attr': u'Active',\n",
       " u'organizationSubtypeCode_attr': u'Unknown',\n",
       " u'organizationTypeCode_attr': u'Unknown',\n",
       " u'repository_context_id': u'284',\n",
       " u'score': 22.96540641784668,\n",
       " u'shortName_attr': u'KENWOOD APPL',\n",
       " 'source_name_norm': 'appl',\n",
       " u'subjectUris': [u'http://feed.thomsonreuters.com/1-5036187948'],\n",
       " u'subsidiariesCount_attr': u'0',\n",
       " u'type': u'1464971960180_organization',\n",
       " u'uri': u'http://feed.thomsonreuters.com/1-5036187948'}"
      ]
     },
     "execution_count": 6,
     "metadata": {},
     "output_type": "execute_result"
    }
   ],
   "source": [
    "search_entity(\"appl\", headers)"
   ]
  },
  {
   "cell_type": "code",
   "execution_count": 8,
   "metadata": {},
   "outputs": [
    {
     "name": "stderr",
     "output_type": "stream",
     "text": [
      "C:\\Users\\uc238618\\AppData\\Local\\Continuum\\anaconda3\\lib\\site-packages\\urllib3\\connectionpool.py:858: InsecureRequestWarning: Unverified HTTPS request is being made. Adding certificate verification is strongly advised. See: https://urllib3.readthedocs.io/en/latest/advanced-usage.html#ssl-warnings\n",
      "  InsecureRequestWarning)\n"
     ]
    },
    {
     "data": {
      "text/plain": [
       "{u'CommonName_attr': u'Kenwood Appl Singapore Pte Ltd',\n",
       " u'MXID_attr': u'111907977',\n",
       " u'MXID_attr_d': u'1.11907977E8',\n",
       " u'OrganizationProviderTypeCode_attr': u'1',\n",
       " u'OrganizationProviderTypeCode_attr_d': u'1.0',\n",
       " u'concord_record_t': u'http://feed.thomsonreuters.com/1-5036187948|KENWOOD APPL SINGAPORE PTE LTD||||SG||',\n",
       " u'concord_search_t': [u'KENWOOD APPL SINGAPORE PTE,SG',\n",
       "  u'KENWOOD APPL SINGAPORE PTE LTD,SG',\n",
       "  u'KENWOOD APPL SINGAPORE,SG',\n",
       "  u'KENWOOD APPL,SG'],\n",
       " u'contextFields': {},\n",
       " u'equityInstrumentCount_attr': u'0',\n",
       " u'hasLegacyPI_attr': u'22840614',\n",
       " u'hasLegacyPI_attr_d': u'2.2840614E7',\n",
       " u'hasMXID_attr': u'111907977',\n",
       " u'hasMXID_attr_d': u'1.11907977E8',\n",
       " u'hasNDAOrgID_attr': u'111259855',\n",
       " u'hasNDAOrgID_attr_d': u'1.11259855E8',\n",
       " u'hasOfficialNameTransliterated_attr': u'KENWOOD APPL. (SINGAPORE) PTE LTD.',\n",
       " u'hasOfficialName_attr': u'KENWOOD APPL. (SINGAPORE) PTE LTD.',\n",
       " u'hasPermId_attr': u'5036187948',\n",
       " u'hasPermId_attr_d': u'5.036187948E9',\n",
       " u'hasShortName_attr': u'Kenwood Appl',\n",
       " u'hasSubTypeCode_attr': u'UNK',\n",
       " u'headquartersAddress_attr': u'Singapore',\n",
       " u'headquartersCommonAddress_attr': u'Singapore',\n",
       " u'instrumentCount_attr': u'0',\n",
       " u'isDomiciledIn_attr': u'Singapore',\n",
       " u'isManaged_attr': u'false',\n",
       " u'isPublicFlag_attr': u'false',\n",
       " u'isVerified_attr': u'false',\n",
       " u'label': u'Kenwood Appl Singapore Pte Ltd',\n",
       " u'officialLatinName_attr': u'KENWOOD APPL. (SINGAPORE) PTE LTD.',\n",
       " u'officialNameTransliterated_attr': u'KENWOOD APPL. (SINGAPORE) PTE LTD.',\n",
       " u'officialName_attr': u'KENWOOD APPL. (SINGAPORE) PTE LTD.',\n",
       " u'organizationCountryCode_attr': u'100265',\n",
       " u'organizationCountryCode_attr_d': u'100265.0',\n",
       " u'organizationCountry_attr': u'Singapore',\n",
       " u'organizationStatusCode_attr': u'Active',\n",
       " u'organizationSubtypeCode_attr': u'Unknown',\n",
       " u'organizationTypeCode_attr': u'Unknown',\n",
       " u'repository_context_id': u'284',\n",
       " u'score': 22.96540641784668,\n",
       " u'shortName_attr': u'KENWOOD APPL',\n",
       " 'source_name_norm': 'appl',\n",
       " u'subjectUris': [u'http://feed.thomsonreuters.com/1-5036187948'],\n",
       " u'subsidiariesCount_attr': u'0',\n",
       " u'type': u'1464971960180_organization',\n",
       " u'uri': u'http://feed.thomsonreuters.com/1-5036187948'}"
      ]
     },
     "execution_count": 8,
     "metadata": {},
     "output_type": "execute_result"
    }
   ],
   "source": [
    "search_entity(\"appl\", headers)"
   ]
  }
 ],
 "metadata": {
  "kernelspec": {
   "display_name": "Python 2",
   "language": "python",
   "name": "python2"
  },
  "language_info": {
   "codemirror_mode": {
    "name": "ipython",
    "version": 2
   },
   "file_extension": ".py",
   "mimetype": "text/x-python",
   "name": "python",
   "nbconvert_exporter": "python",
   "pygments_lexer": "ipython2",
   "version": "2.7.14"
  }
 },
 "nbformat": 4,
 "nbformat_minor": 2
}
