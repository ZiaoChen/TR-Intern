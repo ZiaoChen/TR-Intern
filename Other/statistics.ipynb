{
 "cells": [
  {
   "cell_type": "markdown",
   "metadata": {},
   "source": [
    "# Read text file"
   ]
  },
  {
   "cell_type": "code",
   "execution_count": 214,
   "metadata": {},
   "outputs": [],
   "source": [
    "msg_list = []\n",
    "import re\n",
    "with open('history0226-0305.txt', encoding='utf-8') as fp:\n",
    "    for line in fp:\n",
    "        if line != \"李嘉慧\\n\":\n",
    "            if line.endswith(\"李嘉慧\"):\n",
    "                line = line.replace(\"李嘉慧\",\"\")\n",
    "            msg_list.append(re.sub('[0-9:.,。，?？~～！!-]+', '', line.replace(\"Copy\",\"\").replace(\"[Emoticon]\",\"\").replace(\" \",\"\").replace(\"Export\",\"\").strip(\"[]\")))"
   ]
  },
  {
   "cell_type": "code",
   "execution_count": 215,
   "metadata": {
    "collapsed": true
   },
   "outputs": [],
   "source": [
    "msg_list = [x.replace(\"editrevokecontent\",\"\").strip('\\n') for x in msg_list if x and x != '\\n']"
   ]
  },
  {
   "cell_type": "code",
   "execution_count": 216,
   "metadata": {},
   "outputs": [
    {
     "data": {
      "text/plain": [
       "1857"
      ]
     },
     "execution_count": 216,
     "metadata": {},
     "output_type": "execute_result"
    }
   ],
   "source": [
    "len(msg_list)"
   ]
  },
  {
   "cell_type": "code",
   "execution_count": 217,
   "metadata": {
    "collapsed": true
   },
   "outputs": [],
   "source": [
    "import jieba\n",
    "jieba.add_word('陈子遨')\n",
    "jieba.add_word('子遨')\n",
    "jieba.add_word('陈同学')"
   ]
  },
  {
   "cell_type": "code",
   "execution_count": 218,
   "metadata": {
    "collapsed": true
   },
   "outputs": [],
   "source": [
    "stop_words = \"吧了我你她他也是啦嘛在中就会要的得地而和都或比把让其实你们现在可能还有可是真是没有就是真的以后这样哈哈这么已经那个哎呀觉得不是然后还是所以应该可以因为怎么什么那么没事这个看来时候感觉还有可是一般他们\""
   ]
  },
  {
   "cell_type": "code",
   "execution_count": 219,
   "metadata": {},
   "outputs": [],
   "source": [
    "words_list = []\n",
    "for msg in msg_list:\n",
    "    seg_list=jieba.cut_for_search(msg)\n",
    "    words_list += \",\".join(seg_list).split(',')\n",
    "    "
   ]
  },
  {
   "cell_type": "code",
   "execution_count": 220,
   "metadata": {
    "collapsed": true
   },
   "outputs": [],
   "source": [
    "words_list = [x for x in words_list if x not in stop_words]"
   ]
  },
  {
   "cell_type": "code",
   "execution_count": 221,
   "metadata": {},
   "outputs": [
    {
     "data": {
      "text/plain": [
       "11652"
      ]
     },
     "execution_count": 221,
     "metadata": {},
     "output_type": "execute_result"
    }
   ],
   "source": [
    "len(words_list)"
   ]
  },
  {
   "cell_type": "code",
   "execution_count": 222,
   "metadata": {},
   "outputs": [],
   "source": [
    "words_list.remove('李嘉慧')\n"
   ]
  },
  {
   "cell_type": "code",
   "execution_count": 223,
   "metadata": {},
   "outputs": [],
   "source": [
    "words_list = [x for x in words_list if x != \"李嘉慧\"]\n",
    "words_list += [\"李嘉慧\" for _ in range(40)]\n",
    "words_list += [\"陈子遨\" for _ in range(30)]\n",
    "words_list += [\"陈同学\" for _ in range(30)]\n",
    "words_list += [\"Tracy\" for _ in range(30)]"
   ]
  },
  {
   "cell_type": "markdown",
   "metadata": {},
   "source": [
    "# Word Cloud"
   ]
  },
  {
   "cell_type": "code",
   "execution_count": 224,
   "metadata": {
    "collapsed": true
   },
   "outputs": [],
   "source": [
    "from wordcloud import WordCloud\n",
    "from PIL import Image\n",
    "import numpy as np\n",
    "import matplotlib.pyplot as plt"
   ]
  },
  {
   "cell_type": "code",
   "execution_count": 225,
   "metadata": {
    "collapsed": true
   },
   "outputs": [],
   "source": [
    "image = np.array(Image.open(\"b.jpg\"))"
   ]
  },
  {
   "cell_type": "code",
   "execution_count": 226,
   "metadata": {},
   "outputs": [
    {
     "data": {
      "text/plain": [
       "<wordcloud.wordcloud.WordCloud at 0x10e71c50>"
      ]
     },
     "execution_count": 226,
     "metadata": {},
     "output_type": "execute_result"
    }
   ],
   "source": [
    "wc = WordCloud(background_color=\"white\", max_words=500, mask=image,font_path=\"C:/Windows/Fonts/cute.ttf\")\n",
    "wc.generate(\"\\n\".join(words_list))"
   ]
  },
  {
   "cell_type": "code",
   "execution_count": 227,
   "metadata": {},
   "outputs": [
    {
     "data": {
      "text/plain": [
       "<wordcloud.wordcloud.WordCloud at 0x10e71c50>"
      ]
     },
     "execution_count": 227,
     "metadata": {},
     "output_type": "execute_result"
    }
   ],
   "source": [
    "wc.to_file(\"test.png\")"
   ]
  }
 ],
 "metadata": {
  "kernelspec": {
   "display_name": "Python 3",
   "language": "python",
   "name": "python3"
  },
  "language_info": {
   "codemirror_mode": {
    "name": "ipython",
    "version": 3
   },
   "file_extension": ".py",
   "mimetype": "text/x-python",
   "name": "python",
   "nbconvert_exporter": "python",
   "pygments_lexer": "ipython3",
   "version": "3.6.3"
  }
 },
 "nbformat": 4,
 "nbformat_minor": 2
}
